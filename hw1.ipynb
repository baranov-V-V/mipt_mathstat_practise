{
  "nbformat": 4,
  "nbformat_minor": 0,
  "metadata": {
    "colab": {
      "provenance": [],
      "collapsed_sections": []
    },
    "kernelspec": {
      "name": "python3",
      "display_name": "Python 3"
    }
  },
  "cells": [
    {
      "cell_type": "markdown",
      "metadata": {
        "id": "i3wSAlVeUrzj"
      },
      "source": [
        "# Курс \"Практикум по математической статистике\"\n",
        "# 3 курс ФПМИ МФТИ, осень 2022\n",
        "## Домашнее задание 1. Cвойства оценок\n",
        "### Дедлайн --- 10 октября 9:00\n",
        "\n",
        "Это первое обязательное домашнее задание нашего курса. Мы предлагаем выполнять задания прямо в этом ноутбуке. Пожалуйста, не стирайте условия задач.\n",
        "\n",
        "Информация о выполнении и курсе в целом есть в <a href=https://docs.google.com/document/d/1kd85QRAS8fbxRxpMzP2IsbQ_YcVsU-Aczqd6ErXgIDg/edit#>этой папке</a>.\n",
        "\n",
        "В этом и последующих заданиях вам потребуется выполнять генерацию случайных величин из некоторого распределения. Для этого вам понадобится библиотека scipy.stats. Мы настоятельно рекомендуем для генерации выборок использовать именно эту библиотеку.\n",
        "\n",
        "Настоятельно рекомендуемая форма оформления домашних заданий — это Jupyter Notebook и его pdf-версия с:\n",
        "\n",
        "* условием задачи,\n",
        "* решением (если требуется некоторый теоретический вывод),\n",
        "* описанием плана решения, который потом реализуется в коде, \n",
        "* собственно кодом, \n",
        "* построенными графиками (если это требуется) и **выводом**, который как правило должен заключаться в объяснении практических результатов с использованием теоретических фактов. ***Вывод требуется даже в том случае, если в условии об этом явно не сказано!***\n",
        "* некоторыми другими вещами, если об этом будет указано в задании.\n",
        "\n",
        "Оценка за каждую задачу складывается из правильного выполнения всех этих пунктов. Закрывая на них глаза, вы сознательно понижаете свою оценку.\n",
        "\n",
        "Каждая задача оценивается в 10 баллов."
      ]
    },
    {
      "cell_type": "code",
      "metadata": {
        "id": "UiE7nRowVE_K"
      },
      "source": [
        "import numpy as np\n",
        "import matplotlib.pyplot as plt\n",
        "import scipy.stats as sps\n",
        "import seaborn as sns\n",
        "\n",
        "sns.set(style='darkgrid')\n",
        "%matplotlib inline"
      ],
      "execution_count": null,
      "outputs": []
    },
    {
      "cell_type": "markdown",
      "metadata": {
        "id": "q3Ch1rS4ui2U"
      },
      "source": [
        "Зафиксируем `seed` для воспроизводимости."
      ]
    },
    {
      "cell_type": "code",
      "metadata": {
        "id": "Egu6Tzb3ucgn"
      },
      "source": [
        "np.random.seed(42)"
      ],
      "execution_count": null,
      "outputs": []
    },
    {
      "cell_type": "markdown",
      "metadata": {
        "id": "uUzdoZA_U1Jh"
      },
      "source": [
        "### Задача 1"
      ]
    },
    {
      "cell_type": "markdown",
      "metadata": {
        "id": "_fPGbjuxVnp6"
      },
      "source": [
        "Сгенерируйте выборку $X_1, \\dots, X_N$ из равномерного распределения на отрезке $[0, \\theta]$ для $N = 10^4$."
      ]
    },
    {
      "cell_type": "code",
      "metadata": {
        "id": "09nKquauV-8r"
      },
      "source": [
        "N = 1e4  # use this\n",
        "\n",
        "# YOUR CODE GOES HERE"
      ],
      "execution_count": null,
      "outputs": []
    },
    {
      "cell_type": "markdown",
      "metadata": {
        "id": "HbWZp00GWXaQ"
      },
      "source": [
        "Для всех $n \\leqslant N$ посчитайте оценки параметра $\\theta$ из теоретической задачи: $2\\overline{X}, \\; \\overline{X} + X_{(n)}/ 2, \\; (n+1)X_{(1)}, \\; X_{(1)}+X_{(n)}, \\; \\frac{n+1}{n} X_{(n)}$. Используйте векторные операции.\n",
        "\n",
        "__Подсказка:__ Могут быть полезными функции `np.arange`, `np.cumsum`, `np.maximum.accumulate` и `np.minimum.accumulate`"
      ]
    },
    {
      "cell_type": "code",
      "metadata": {
        "id": "l9QzvY9hXHJH"
      },
      "source": [
        "# YOUR CODE GOES HERE"
      ],
      "execution_count": null,
      "outputs": []
    },
    {
      "cell_type": "markdown",
      "metadata": {
        "id": "ZcFgHGcBXQqZ"
      },
      "source": [
        "Постройте на одном графике разными цветами для всех оценок функции модуля разности оценки и истинного значения $\\theta$ в зависимости от $n$. Если некоторые оценки (при фиксированном значении $n$) сильно отличаются от истинного значения параметра $\\theta$, то исключите их и постройте еще один график со всеми кривыми (для измененного значения $\\theta$). Для избавления от больших значений разности в начале ограничьте масштаб графика. Для наглядности точки можно соединить линиями.\n",
        "\n",
        "Не забудьте подписать оси, а также добавить легенду к графику."
      ]
    },
    {
      "cell_type": "code",
      "metadata": {
        "id": "KlTTX5ckXgKN"
      },
      "source": [
        "# YOUR CODE GOES HERE"
      ],
      "execution_count": null,
      "outputs": []
    },
    {
      "cell_type": "markdown",
      "metadata": {
        "id": "jW4PwqRCZBY6"
      },
      "source": [
        "Какая оценка получилась лучше (в смысле упомянутого модуля разности при $n = N$)?"
      ]
    },
    {
      "cell_type": "markdown",
      "metadata": {
        "id": "Og2Z7ltDZKO4"
      },
      "source": [
        "__Ответ:__ \n",
        "\n"
      ]
    },
    {
      "cell_type": "markdown",
      "metadata": {
        "id": "HhVrMI9BZZtA"
      },
      "source": [
        "Проведите эксперимент для разных значений $\\theta$ (количество графиков равно количеству значений $\\theta$)"
      ]
    },
    {
      "cell_type": "code",
      "metadata": {
        "id": "GBfcLJJGZIzU"
      },
      "source": [
        "# YOUR CODE GOES HERE"
      ],
      "execution_count": null,
      "outputs": []
    },
    {
      "cell_type": "markdown",
      "metadata": {
        "id": "8IwLpxK0Zk56"
      },
      "source": [
        "Сделайте вывод.\n"
      ]
    },
    {
      "cell_type": "markdown",
      "metadata": {
        "id": "2cxjGqgWZn8m"
      },
      "source": [
        "__Вывод:__"
      ]
    },
    {
      "cell_type": "markdown",
      "metadata": {
        "id": "cgjgffh2bS14"
      },
      "source": [
        "### Задача 2"
      ]
    },
    {
      "cell_type": "markdown",
      "metadata": {
        "id": "sg7tlZ_SdIPE"
      },
      "source": [
        "Сгенерируйте выборку $X_1, ..., X_N$ из экспоненциального распределения с параметром $\\theta = 1$ для $N = 10^4$. "
      ]
    },
    {
      "cell_type": "code",
      "metadata": {
        "id": "7klakcNSbaLr"
      },
      "source": [
        "# YOUR CODE GOES HERE"
      ],
      "execution_count": null,
      "outputs": []
    },
    {
      "cell_type": "markdown",
      "metadata": {
        "id": "1jecLISTdSRn"
      },
      "source": [
        "Для всех $n \\leqslant N$ посчитайте оценку $(\\frac{k!}{\\overline{X^k}})^{\\frac{1}{k}}$ параметра $\\theta$. Проведите исследование, аналогичное предыдущей задаче, и выясните, при каком k оценка ведет себя лучше (рассмотрите не менее $10$ различных значений $k$)."
      ]
    },
    {
      "cell_type": "code",
      "metadata": {
        "id": "ZLWXaxODdRlf"
      },
      "source": [
        "# YOUR CODE GOES HERE"
      ],
      "execution_count": null,
      "outputs": []
    },
    {
      "cell_type": "markdown",
      "metadata": {
        "id": "Z7_s5bSYfhxP"
      },
      "source": [
        "Сделайте вывод.\n"
      ]
    },
    {
      "cell_type": "markdown",
      "metadata": {
        "id": "xLeBcOHCfhxQ"
      },
      "source": [
        "__Вывод:__"
      ]
    },
    {
      "cell_type": "markdown",
      "metadata": {
        "id": "L8gm4HvbfqNp"
      },
      "source": [
        "### Задача 3"
      ]
    },
    {
      "cell_type": "markdown",
      "metadata": {
        "id": "tgcNWnCQmI7k"
      },
      "source": [
        "Придумайте распределение, у которого конечны первые четыре момента, а пятый - нет. Сгенерируйте выборку $X_1, \\dots, X_N$ из этого распределения для $N = 10^4$. "
      ]
    },
    {
      "cell_type": "code",
      "metadata": {
        "id": "uyH1rYH4ftJh"
      },
      "source": [
        "# YOUR CODE GOES HERE"
      ],
      "execution_count": null,
      "outputs": []
    },
    {
      "cell_type": "markdown",
      "metadata": {
        "id": "eYuTstvqmRlb"
      },
      "source": [
        "Постройте график плотности, а также нанесите точки выборки на график (с нулевой y-координатой)\n",
        "\n",
        "**Подсказка**: Может быть полезен параметр `alpha` в функции `plt.plot`"
      ]
    },
    {
      "cell_type": "code",
      "metadata": {
        "id": "9qtaM6ehmjoO"
      },
      "source": [
        "# YOUR CODE GOES HERE"
      ],
      "execution_count": null,
      "outputs": []
    },
    {
      "cell_type": "markdown",
      "metadata": {
        "id": "N-_EXeXWmkL3"
      },
      "source": [
        "Для всех $n \\leq N$ посчитайте оценку $s^2 = s^2(X_1,\\dots, X_N)$ для дисперсии."
      ]
    },
    {
      "cell_type": "code",
      "metadata": {
        "id": "SA20iGiAnXWM"
      },
      "source": [
        "# YOUR CODE GOES HERE"
      ],
      "execution_count": null,
      "outputs": []
    },
    {
      "cell_type": "markdown",
      "metadata": {
        "id": "UmjdCV43nXtO"
      },
      "source": [
        "Постройте график зависимости модуля разности оценки дисперсии и ее истинного значения от $n$."
      ]
    },
    {
      "cell_type": "code",
      "metadata": {
        "id": "sOopw0xbnvCl"
      },
      "source": [
        "# YOUR CODE GOES HERE"
      ],
      "execution_count": null,
      "outputs": []
    },
    {
      "cell_type": "markdown",
      "metadata": {
        "id": "YcN-EXmhnvc9"
      },
      "source": [
        "Проведите аналогичное исследование для выборки из распределения Коши, где вместо графика модуля разности оценки дисперсии и ее истинного значения (которого не существует) постройте график оценки дисперсии. \n"
      ]
    },
    {
      "cell_type": "code",
      "metadata": {
        "id": "D-VHT4bmn_My"
      },
      "source": [
        "# YOUR CODE GOES HERE"
      ],
      "execution_count": null,
      "outputs": []
    },
    {
      "cell_type": "markdown",
      "metadata": {
        "id": "zFc23JoIoHPa"
      },
      "source": [
        "### Задача 4\n",
        "\n",
        "Сгенерируйте выборку $X_1,\\dots, X_N$ из стандартного нормального распределения для $N = 10^4$."
      ]
    },
    {
      "cell_type": "code",
      "metadata": {
        "id": "FNb9TxbeofKc"
      },
      "source": [
        "# YOUR CODE GOES HERE"
      ],
      "execution_count": null,
      "outputs": []
    },
    {
      "cell_type": "markdown",
      "metadata": {
        "id": "F5J4QLWbofrW"
      },
      "source": [
        "Для всех $n \\leqslant N$ посчитайте по ней эмпирическую функцию распределения.\n"
      ]
    },
    {
      "cell_type": "code",
      "metadata": {
        "id": "THiC9t7rpFFM"
      },
      "source": [
        "from statsmodels.distributions.empirical_distribution import ECDF  # can be useful, but not necessary\n",
        "\n",
        "# YOUR CODE GOES HERE"
      ],
      "execution_count": null,
      "outputs": []
    },
    {
      "cell_type": "markdown",
      "metadata": {
        "id": "LcibV30wpxI-"
      },
      "source": [
        "Для некоторых n (например, $n \\in \\{10,25,50,100,1000,N\\}$ постройте графики эмпирической функции распределения (отметьте на оси абсцисс точки \"скачков\" кривых, нанеся каждую из \"подвыборок\" на ось абсцисс на каждом соответствующем графике с коэффициентом прозрачности `alpha=0.2`), нанеся на каждый из них истинную функцию распределения (количество графиков равно количеству различныз значений $n$)."
      ]
    },
    {
      "cell_type": "code",
      "metadata": {
        "id": "KDXT9tqXsnyr"
      },
      "source": [
        "# YOUR CODE GOES HERE"
      ],
      "execution_count": null,
      "outputs": []
    },
    {
      "cell_type": "markdown",
      "metadata": {
        "id": "nyZXSYm0sozo"
      },
      "source": [
        "Для всех $n ≤ N$ посчитайте точное значение $D_n = \\displaystyle{\\sup_{x∈R}} | \\hat{F}_n(x)−F(x)|$ и постройте график зависимости статистик $D_n$ и $\\sqrt{n}D_n$ от $n$. \n"
      ]
    },
    {
      "cell_type": "code",
      "metadata": {
        "id": "bw3Vysf3twtX"
      },
      "source": [
        "# YOUR CODE GOES HERE"
      ],
      "execution_count": null,
      "outputs": []
    },
    {
      "cell_type": "markdown",
      "metadata": {
        "id": "L69owyjlLcVx"
      },
      "source": [
        "### Задача 5\n",
        "\n",
        "Сгенерируйте $N_{\\text{samples}}=400$ выборок из равномерного распределения $U_{[0, \\theta]} \\ \\theta=1$ размера $N=40$. Для каждой выборки посчитайте статистики $\\hat\\theta = 2\\overline{X}, \\ \\theta^* = \\frac{n+1}{n} X_{(n)}$. Постройте гистограмму получившихся значений каждой из статистик на одном графике, в качестве параметра `bins` функции `plt.hist` передайте значение ниже, а таккже передайте параметр `alpha=0.6`."
      ]
    },
    {
      "cell_type": "code",
      "metadata": {
        "id": "ui-D5NyILtmD"
      },
      "source": [
        "N_samples = 400\n",
        "N = 40\n",
        "\n",
        "bins = [i / 40 + 0.8 for i in range(18)]\n",
        "\n",
        "# YOUR CODE GOES HERE"
      ],
      "execution_count": null,
      "outputs": []
    },
    {
      "cell_type": "markdown",
      "metadata": {
        "id": "57v_cI0EMBRJ"
      },
      "source": [
        "Постройте гистограммы для статистик $\\sqrt{n} (\\hat\\theta - \\theta)$ и $1 - n  (\\theta^* - \\theta)$"
      ]
    },
    {
      "cell_type": "code",
      "metadata": {
        "id": "Kxd5c3PcMHh3"
      },
      "source": [
        "# YOUR CODE GOES HERE"
      ],
      "execution_count": null,
      "outputs": []
    },
    {
      "cell_type": "markdown",
      "metadata": {
        "id": "olortOfHMLUr"
      },
      "source": [
        "На какие распределения похожи получившиеся гистограммы?\n",
        "\n",
        "**Ответ:**"
      ]
    },
    {
      "cell_type": "markdown",
      "metadata": {
        "id": "G_kHPLsaMQsG"
      },
      "source": [
        "Вспомните чему равен коэффициент $\\sigma(\\theta)$ для асимптотиически нормальной оценки $\\hat\\theta = 2\\overline{X}$ для параметра $\\theta$ равномерного распределения в формуле \n",
        "$$\n",
        "\\sqrt{n}\\frac{\\left(\\hat\\theta - \\theta\\right)}{\\sqrt{\\sigma(\\theta)}} \\xrightarrow{d} N(0, 1)\n",
        "$$.\n",
        "\n",
        "**Ответ**:"
      ]
    },
    {
      "cell_type": "markdown",
      "metadata": {
        "id": "MouHaQRCMg6e"
      },
      "source": [
        "Посчитайте значения статистики\n",
        "$$\\sqrt{n}\\frac{\\left(\\hat\\theta - \\theta\\right)}{\\sqrt{\\sigma(\\theta)}}$$\n",
        "для каждой выборки. Передайте получившиеся значения в переменную `theta_norm`. И запустите ячейку снизу."
      ]
    },
    {
      "cell_type": "code",
      "metadata": {
        "id": "bChAvUhiMnN3"
      },
      "source": [
        "import statsmodels.api as sm\n",
        "\n",
        "\n",
        "theta_norm = None  # YOUR CODE GOES HERE\n",
        "fig, ax = plt.subplots(figsize=(10, 10))\n",
        "sm.qqplot(theta_norm, line='45', ax=ax)\n",
        "fig.show()"
      ],
      "execution_count": null,
      "outputs": []
    },
    {
      "cell_type": "markdown",
      "metadata": {
        "id": "Fic6kEcSM5AI"
      },
      "source": [
        "Для быстрой проверки гипотезы о том, что выборка принадлежит какому-либо распределению часто используется инструмент под названием `QQ-plot` (первые буквы означают `Quantile`). На нем по оси $x$ отложены теоретические значения квантиля, а по оси $y$ -- квантили тестируемой выборки. Очевидно, в идеале такие квантили должны совпадать, поэтому на графике можно увидеть красную линию соответствующую графику функции $y = x$.\n",
        "\n",
        "Сделайте вывод по графику выше. Можно ли утверждать, что выборка взята из нормального распределения?\n",
        "\n",
        "**Ответ:**"
      ]
    },
    {
      "cell_type": "markdown",
      "metadata": {
        "id": "F1BT-7XEM7w9"
      },
      "source": [
        "Вернемся к статистике $\\theta - n  (\\theta^* - \\theta)$. Еще раз взгляните на гистограмму, соотвутствующую этой статистике. Попробуйте построить `QQ-plot` для различных распределений (например можно передать в параметр `dist=sps.uniform` в функцию `sm.qqplot` или любое другое из модуля `scipy.stats`). Какое распределение подходит лучше всего?\n",
        "\n",
        "**Ответ:**"
      ]
    },
    {
      "cell_type": "code",
      "metadata": {
        "id": "AOcQSEjmNFun"
      },
      "source": [
        "# YOUR CODE GOES HERE"
      ],
      "execution_count": null,
      "outputs": []
    },
    {
      "cell_type": "markdown",
      "metadata": {
        "id": "dfuavx9qaG01"
      },
      "source": [
        "Плохо ли, что оценка $\\theta^*$ не асимптотически нормальна? Сделайте вывод о скорости сходимости оценок. Какая из них «выгоднее»?\n",
        "\n",
        "**Ответ:**"
      ]
    },
    {
      "cell_type": "markdown",
      "metadata": {
        "id": "n-tKrQGGu5EO"
      },
      "source": [
        "**Перед отправкой нажмите `Restart and run all`**. Проверьте, что все работает без ошибок."
      ]
    },
    {
      "cell_type": "code",
      "metadata": {
        "id": "usYNpjSPvCF7"
      },
      "source": [],
      "execution_count": null,
      "outputs": []
    }
  ]
}